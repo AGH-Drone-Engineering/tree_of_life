{
 "cells": [
  {
   "cell_type": "code",
   "execution_count": 4,
   "metadata": {},
   "outputs": [],
   "source": [
    "import csv\n",
    "from config import *\n",
    "from firebase_admin import credentials, firestore, initialize_app\n",
    "import pandas as pd"
   ]
  },
  {
   "cell_type": "code",
   "execution_count": 13,
   "metadata": {},
   "outputs": [],
   "source": [
    "db = firestore.client()\n",
    "\n",
    "# Retrieve all documents from the \"tree-points\" collection\n",
    "collection_ref = db.collection(collection_name)\n",
    "docs = collection_ref.stream()\n",
    "\n"
   ]
  },
  {
   "cell_type": "code",
   "execution_count": 14,
   "metadata": {},
   "outputs": [
    {
     "name": "stdout",
     "output_type": "stream",
     "text": [
      "{'location': <google.cloud.firestore_v1._helpers.GeoPoint object at 0x000001C4003D5ED0>, 'timestamp': DatetimeWithNanoseconds(2023, 5, 22, 7, 18, 16, 566000, tzinfo=datetime.timezone.utc), 'shooted': 'true'}\n",
      "{'location': <google.cloud.firestore_v1._helpers.GeoPoint object at 0x000001C4003D5D80>, 'timestamp': DatetimeWithNanoseconds(2023, 5, 22, 7, 18, 17, 309000, tzinfo=datetime.timezone.utc), 'shooted': 'true'}\n",
      "{'location': <google.cloud.firestore_v1._helpers.GeoPoint object at 0x000001C4003D5C30>, 'timestamp': DatetimeWithNanoseconds(2023, 5, 22, 7, 18, 17, 80000, tzinfo=datetime.timezone.utc), 'shooted': 'true'}\n",
      "{'location': <google.cloud.firestore_v1._helpers.GeoPoint object at 0x000001C4003D5930>, 'timestamp': DatetimeWithNanoseconds(2023, 5, 22, 7, 18, 16, 462000, tzinfo=datetime.timezone.utc), 'shooted': 'true'}\n",
      "Data downloaded and stored in list 'latitude_longitude_list':\n",
      "[[2.0, 2.0], [6.0, 7.0], [4.0, 5.0], [1.0, 1.0]]\n"
     ]
    }
   ],
   "source": [
    "# Create a list to store all the data\n",
    "data = []\n",
    "latitude_longitude_list=[]\n",
    "for doc in docs:\n",
    "    point = doc.to_dict()\n",
    "    latitude_longitude_list.append([point['location'].latitude, point['location'].longitude])\n",
    "\n",
    "print(f\"Data downloaded and stored in list 'latitude_longitude_list':\")\n",
    "print(latitude_longitude_list)"
   ]
  }
 ],
 "metadata": {
  "kernelspec": {
   "display_name": "Python 3",
   "language": "python",
   "name": "python3"
  },
  "language_info": {
   "codemirror_mode": {
    "name": "ipython",
    "version": 3
   },
   "file_extension": ".py",
   "mimetype": "text/x-python",
   "name": "python",
   "nbconvert_exporter": "python",
   "pygments_lexer": "ipython3",
   "version": "3.10.11"
  },
  "orig_nbformat": 4
 },
 "nbformat": 4,
 "nbformat_minor": 2
}
